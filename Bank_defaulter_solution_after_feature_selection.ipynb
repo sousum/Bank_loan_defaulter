{
 "cells": [
  {
   "cell_type": "code",
   "execution_count": 1,
   "metadata": {},
   "outputs": [],
   "source": [
    "from datetime import datetime\n",
    "import numpy as np\n",
    "import pandas as pd\n",
    "import xgboost\n",
    "import sklearn.metrics as metrics\n",
    "from sklearn.metrics import confusion_matrix, classification_report, accuracy_score\n",
    "from sklearn.metrics import roc_curve, auc \n",
    "from sklearn.metrics import roc_auc_score\n",
    "from sklearn.model_selection import train_test_split"
   ]
  },
  {
   "cell_type": "code",
   "execution_count": 2,
   "metadata": {},
   "outputs": [],
   "source": [
    "dfTrain = pd.read_csv('ML_Artivatic_dataset\\\\train_indessa.csv')\n",
    "dfTest = pd.read_csv('ML_Artivatic_dataset\\\\test_indessa.csv')"
   ]
  },
  {
   "cell_type": "code",
   "execution_count": 3,
   "metadata": {},
   "outputs": [],
   "source": [
    "dfTrain = dfTrain[['member_id', 'loan_amnt', 'funded_amnt', 'addr_state', 'funded_amnt_inv', 'sub_grade', 'term', 'emp_length', 'home_ownership', 'int_rate', 'purpose', 'annual_inc', 'verification_status', 'pymnt_plan', 'dti', 'delinq_2yrs', 'inq_last_6mths', 'mths_since_last_delinq', 'mths_since_last_record', 'open_acc', 'pub_rec', 'revol_bal', 'revol_util', 'total_acc', 'total_rec_int', 'total_rec_late_fee', 'recoveries', 'collection_recovery_fee', 'collections_12_mths_ex_med', 'mths_since_last_major_derog', 'last_week_pay', 'acc_now_delinq', 'tot_coll_amt', 'tot_cur_bal', 'total_rev_hi_lim', 'loan_status']]\n",
    "dfTest = dfTest[['member_id', 'loan_amnt', 'funded_amnt', 'addr_state', 'funded_amnt_inv', 'sub_grade', 'term', 'emp_length', 'home_ownership', 'int_rate', 'purpose', 'annual_inc', 'verification_status', 'pymnt_plan', 'dti', 'delinq_2yrs', 'inq_last_6mths', 'mths_since_last_delinq', 'mths_since_last_record', 'open_acc', 'pub_rec', 'revol_bal', 'revol_util', 'total_acc', 'total_rec_int', 'total_rec_late_fee', 'recoveries', 'collection_recovery_fee', 'collections_12_mths_ex_med', 'mths_since_last_major_derog', 'last_week_pay', 'acc_now_delinq', 'tot_coll_amt', 'tot_cur_bal', 'total_rev_hi_lim']]"
   ]
  },
  {
   "cell_type": "code",
   "execution_count": 4,
   "metadata": {},
   "outputs": [
    {
     "data": {
      "text/plain": [
       "((532428, 36), (354951, 35))"
      ]
     },
     "execution_count": 4,
     "metadata": {},
     "output_type": "execute_result"
    }
   ],
   "source": [
    "dfTrain.shape, dfTest.shape"
   ]
  },
  {
   "cell_type": "markdown",
   "metadata": {},
   "source": [
    "# Data Cleaning "
   ]
  },
  {
   "cell_type": "code",
   "execution_count": 5,
   "metadata": {},
   "outputs": [],
   "source": [
    "dfTrain['term'].replace(to_replace=' months', value='', regex=True, inplace=True)\n",
    "dfTest['term'].replace(to_replace=' months', value='', regex=True, inplace=True)\n",
    "dfTrain['term'] = pd.to_numeric(dfTrain['term'], errors='coerce')\n",
    "dfTest['term'] = pd.to_numeric(dfTest['term'], errors='coerce')"
   ]
  },
  {
   "cell_type": "code",
   "execution_count": 6,
   "metadata": {},
   "outputs": [],
   "source": [
    "dfTrain['emp_length'].replace('n/a', '0', inplace=True)\n",
    "dfTrain['emp_length'].replace(to_replace='\\+ years', value='', regex=True, inplace=True)\n",
    "dfTrain['emp_length'].replace(to_replace=' years', value='', regex=True, inplace=True)\n",
    "dfTrain['emp_length'].replace(to_replace='< 1 year', value='0', regex=True, inplace=True)\n",
    "dfTrain['emp_length'].replace(to_replace=' year', value='', regex=True, inplace=True)\n",
    "dfTest['emp_length'].replace('n/a', '0', inplace=True)\n",
    "dfTest['emp_length'].replace(to_replace='\\+ years', value='', regex=True, inplace=True)\n",
    "dfTest['emp_length'].replace(to_replace=' years', value='', regex=True, inplace=True)\n",
    "dfTest['emp_length'].replace(to_replace='< 1 year', value='0', regex=True, inplace=True)\n",
    "dfTest['emp_length'].replace(to_replace=' year', value='', regex=True, inplace=True)\n",
    "dfTrain['emp_length'] = pd.to_numeric(dfTrain['emp_length'], errors='coerce')\n",
    "dfTest['emp_length'] = pd.to_numeric(dfTest['emp_length'], errors='coerce')"
   ]
  },
  {
   "cell_type": "code",
   "execution_count": 7,
   "metadata": {},
   "outputs": [],
   "source": [
    "dfTrain['last_week_pay'].replace(to_replace='th week', value='', regex=True, inplace=True)\n",
    "dfTest['last_week_pay'].replace(to_replace='th week', value='', regex=True, inplace=True)\n",
    "dfTrain['last_week_pay'].replace(to_replace='NA', value='', regex=True, inplace=True)\n",
    "dfTest['last_week_pay'].replace(to_replace='NA', value='', regex=True, inplace=True)\n",
    "dfTrain['last_week_pay'] = pd.to_numeric(dfTrain['last_week_pay'], errors='coerce')\n",
    "dfTest['last_week_pay'] = pd.to_numeric(dfTest['last_week_pay'], errors='coerce')"
   ]
  },
  {
   "cell_type": "code",
   "execution_count": 8,
   "metadata": {},
   "outputs": [],
   "source": [
    "dfTrain['sub_grade'].replace(to_replace='A', value='0', regex=True, inplace=True)\n",
    "dfTrain['sub_grade'].replace(to_replace='B', value='1', regex=True, inplace=True)\n",
    "dfTrain['sub_grade'].replace(to_replace='C', value='2', regex=True, inplace=True)\n",
    "dfTrain['sub_grade'].replace(to_replace='D', value='3', regex=True, inplace=True)\n",
    "dfTrain['sub_grade'].replace(to_replace='E', value='4', regex=True, inplace=True)\n",
    "dfTrain['sub_grade'].replace(to_replace='F', value='5', regex=True, inplace=True)\n",
    "dfTrain['sub_grade'].replace(to_replace='G', value='6', regex=True, inplace=True)\n",
    "dfTest['sub_grade'].replace(to_replace='A', value='0', regex=True, inplace=True)\n",
    "dfTest['sub_grade'].replace(to_replace='B', value='1', regex=True, inplace=True)\n",
    "dfTest['sub_grade'].replace(to_replace='C', value='2', regex=True, inplace=True)\n",
    "dfTest['sub_grade'].replace(to_replace='D', value='3', regex=True, inplace=True)\n",
    "dfTest['sub_grade'].replace(to_replace='E', value='4', regex=True, inplace=True)\n",
    "dfTest['sub_grade'].replace(to_replace='F', value='5', regex=True, inplace=True)\n",
    "dfTest['sub_grade'].replace(to_replace='G', value='6', regex=True, inplace=True)\n",
    "dfTrain['sub_grade'] = pd.to_numeric(dfTrain['sub_grade'], errors='coerce')\n",
    "dfTest['sub_grade'] = pd.to_numeric(dfTest['sub_grade'], errors='coerce')"
   ]
  },
  {
   "cell_type": "code",
   "execution_count": 9,
   "metadata": {},
   "outputs": [
    {
     "data": {
      "text/plain": [
       "member_id                           0\n",
       "loan_amnt                           0\n",
       "funded_amnt                         0\n",
       "addr_state                          0\n",
       "funded_amnt_inv                     0\n",
       "sub_grade                           0\n",
       "term                                0\n",
       "emp_length                      26891\n",
       "home_ownership                      0\n",
       "int_rate                            0\n",
       "purpose                             0\n",
       "annual_inc                          3\n",
       "verification_status                 0\n",
       "pymnt_plan                          0\n",
       "dti                                 0\n",
       "delinq_2yrs                        16\n",
       "inq_last_6mths                     16\n",
       "mths_since_last_delinq         272554\n",
       "mths_since_last_record         450305\n",
       "open_acc                           16\n",
       "pub_rec                            16\n",
       "revol_bal                           0\n",
       "revol_util                        287\n",
       "total_acc                          16\n",
       "total_rec_int                       0\n",
       "total_rec_late_fee                  0\n",
       "recoveries                          0\n",
       "collection_recovery_fee             0\n",
       "collections_12_mths_ex_med         95\n",
       "mths_since_last_major_derog    399448\n",
       "last_week_pay                   10614\n",
       "acc_now_delinq                     16\n",
       "tot_coll_amt                    42004\n",
       "tot_cur_bal                     42004\n",
       "total_rev_hi_lim                42004\n",
       "loan_status                         0\n",
       "dtype: int64"
      ]
     },
     "execution_count": 9,
     "metadata": {},
     "output_type": "execute_result"
    }
   ],
   "source": [
    "dfTrain.isnull().sum()"
   ]
  },
  {
   "cell_type": "code",
   "execution_count": 10,
   "metadata": {},
   "outputs": [
    {
     "data": {
      "text/plain": [
       "member_id                           0\n",
       "loan_amnt                           0\n",
       "funded_amnt                         0\n",
       "addr_state                          0\n",
       "funded_amnt_inv                     0\n",
       "sub_grade                           0\n",
       "term                                0\n",
       "emp_length                      17934\n",
       "home_ownership                      0\n",
       "int_rate                            0\n",
       "purpose                             0\n",
       "annual_inc                          1\n",
       "verification_status                 0\n",
       "pymnt_plan                          0\n",
       "dti                                 0\n",
       "delinq_2yrs                        13\n",
       "inq_last_6mths                     13\n",
       "mths_since_last_delinq         181758\n",
       "mths_since_last_record         300021\n",
       "open_acc                           13\n",
       "pub_rec                            13\n",
       "revol_bal                           0\n",
       "revol_util                        215\n",
       "total_acc                          13\n",
       "total_rec_int                       0\n",
       "total_rec_late_fee                  0\n",
       "recoveries                          0\n",
       "collection_recovery_fee             0\n",
       "collections_12_mths_ex_med         50\n",
       "mths_since_last_major_derog    266228\n",
       "last_week_pay                    7045\n",
       "acc_now_delinq                     13\n",
       "tot_coll_amt                    28272\n",
       "tot_cur_bal                     28272\n",
       "total_rev_hi_lim                28272\n",
       "dtype: int64"
      ]
     },
     "execution_count": 10,
     "metadata": {},
     "output_type": "execute_result"
    }
   ],
   "source": [
    "dfTest.isnull().sum()"
   ]
  },
  {
   "cell_type": "code",
   "execution_count": 11,
   "metadata": {},
   "outputs": [],
   "source": [
    "cols = ['last_week_pay', 'annual_inc', 'emp_length', 'delinq_2yrs', 'inq_last_6mths', 'pub_rec', 'mths_since_last_delinq', 'mths_since_last_record', 'open_acc', 'revol_util', 'total_acc', 'mths_since_last_major_derog', 'tot_coll_amt', 'tot_cur_bal', 'total_rev_hi_lim']\n",
    "for col in cols:\n",
    "    dfTrain[col].fillna(dfTrain[col].median(), inplace=True)\n",
    "    dfTest[col].fillna(dfTest[col].median(), inplace=True)"
   ]
  },
  {
   "cell_type": "code",
   "execution_count": 12,
   "metadata": {},
   "outputs": [],
   "source": [
    "cols = ['acc_now_delinq', 'total_rec_late_fee', 'recoveries', 'collection_recovery_fee', 'collections_12_mths_ex_med']\n",
    "for col in cols:\n",
    "    dfTrain[col].fillna(0, inplace=True)\n",
    "    dfTest[col].fillna(0, inplace=True)"
   ]
  },
  {
   "cell_type": "code",
   "execution_count": 13,
   "metadata": {},
   "outputs": [],
   "source": [
    "cat_attr = ['addr_state', 'home_ownership', 'purpose', 'verification_status', 'pymnt_plan']\n",
    "for cat in cat_attr:\n",
    "    df_col = [cat]\n",
    "    dfTrain[cat] = dfTrain[cat].astype(\"category\")\n",
    "    dfTrain[cat] = pd.get_dummies(dfTrain, columns=df_col)\n",
    "    dfTest[cat] = dfTest[cat].astype(\"category\")\n",
    "    dfTest[cat] = pd.get_dummies(dfTest, columns=df_col)"
   ]
  },
  {
   "cell_type": "code",
   "execution_count": 14,
   "metadata": {},
   "outputs": [
    {
     "data": {
      "text/plain": [
       "member_id                      0\n",
       "loan_amnt                      0\n",
       "funded_amnt                    0\n",
       "addr_state                     0\n",
       "funded_amnt_inv                0\n",
       "sub_grade                      0\n",
       "term                           0\n",
       "emp_length                     0\n",
       "home_ownership                 0\n",
       "int_rate                       0\n",
       "purpose                        0\n",
       "annual_inc                     0\n",
       "verification_status            0\n",
       "pymnt_plan                     0\n",
       "dti                            0\n",
       "delinq_2yrs                    0\n",
       "inq_last_6mths                 0\n",
       "mths_since_last_delinq         0\n",
       "mths_since_last_record         0\n",
       "open_acc                       0\n",
       "pub_rec                        0\n",
       "revol_bal                      0\n",
       "revol_util                     0\n",
       "total_acc                      0\n",
       "total_rec_int                  0\n",
       "total_rec_late_fee             0\n",
       "recoveries                     0\n",
       "collection_recovery_fee        0\n",
       "collections_12_mths_ex_med     0\n",
       "mths_since_last_major_derog    0\n",
       "last_week_pay                  0\n",
       "acc_now_delinq                 0\n",
       "tot_coll_amt                   0\n",
       "tot_cur_bal                    0\n",
       "total_rev_hi_lim               0\n",
       "loan_status                    0\n",
       "dtype: int64"
      ]
     },
     "execution_count": 14,
     "metadata": {},
     "output_type": "execute_result"
    }
   ],
   "source": [
    "dfTrain.isnull().sum()"
   ]
  },
  {
   "cell_type": "code",
   "execution_count": 15,
   "metadata": {},
   "outputs": [
    {
     "data": {
      "text/plain": [
       "member_id                      0\n",
       "loan_amnt                      0\n",
       "funded_amnt                    0\n",
       "addr_state                     0\n",
       "funded_amnt_inv                0\n",
       "sub_grade                      0\n",
       "term                           0\n",
       "emp_length                     0\n",
       "home_ownership                 0\n",
       "int_rate                       0\n",
       "purpose                        0\n",
       "annual_inc                     0\n",
       "verification_status            0\n",
       "pymnt_plan                     0\n",
       "dti                            0\n",
       "delinq_2yrs                    0\n",
       "inq_last_6mths                 0\n",
       "mths_since_last_delinq         0\n",
       "mths_since_last_record         0\n",
       "open_acc                       0\n",
       "pub_rec                        0\n",
       "revol_bal                      0\n",
       "revol_util                     0\n",
       "total_acc                      0\n",
       "total_rec_int                  0\n",
       "total_rec_late_fee             0\n",
       "recoveries                     0\n",
       "collection_recovery_fee        0\n",
       "collections_12_mths_ex_med     0\n",
       "mths_since_last_major_derog    0\n",
       "last_week_pay                  0\n",
       "acc_now_delinq                 0\n",
       "tot_coll_amt                   0\n",
       "tot_cur_bal                    0\n",
       "total_rev_hi_lim               0\n",
       "dtype: int64"
      ]
     },
     "execution_count": 15,
     "metadata": {},
     "output_type": "execute_result"
    }
   ],
   "source": [
    "dfTest.isnull().sum()"
   ]
  },
  {
   "cell_type": "code",
   "execution_count": 16,
   "metadata": {},
   "outputs": [],
   "source": [
    "train_target = pd.DataFrame(dfTrain['loan_status'])\n",
    "finalTrain = dfTrain.drop(['loan_status'], axis=1)\n",
    "finalTest = dfTest"
   ]
  },
  {
   "cell_type": "code",
   "execution_count": 17,
   "metadata": {},
   "outputs": [
    {
     "data": {
      "text/plain": [
       "((532428, 35), (354951, 35))"
      ]
     },
     "execution_count": 17,
     "metadata": {},
     "output_type": "execute_result"
    }
   ],
   "source": [
    "finalTrain.shape, finalTest.shape"
   ]
  },
  {
   "cell_type": "code",
   "execution_count": 18,
   "metadata": {},
   "outputs": [
    {
     "data": {
      "text/html": [
       "<div>\n",
       "<style scoped>\n",
       "    .dataframe tbody tr th:only-of-type {\n",
       "        vertical-align: middle;\n",
       "    }\n",
       "\n",
       "    .dataframe tbody tr th {\n",
       "        vertical-align: top;\n",
       "    }\n",
       "\n",
       "    .dataframe thead th {\n",
       "        text-align: right;\n",
       "    }\n",
       "</style>\n",
       "<table border=\"1\" class=\"dataframe\">\n",
       "  <thead>\n",
       "    <tr style=\"text-align: right;\">\n",
       "      <th></th>\n",
       "      <th>member_id</th>\n",
       "      <th>loan_amnt</th>\n",
       "      <th>funded_amnt</th>\n",
       "      <th>addr_state</th>\n",
       "      <th>funded_amnt_inv</th>\n",
       "      <th>sub_grade</th>\n",
       "      <th>term</th>\n",
       "      <th>emp_length</th>\n",
       "      <th>home_ownership</th>\n",
       "      <th>int_rate</th>\n",
       "      <th>...</th>\n",
       "      <th>total_rec_late_fee</th>\n",
       "      <th>recoveries</th>\n",
       "      <th>collection_recovery_fee</th>\n",
       "      <th>collections_12_mths_ex_med</th>\n",
       "      <th>mths_since_last_major_derog</th>\n",
       "      <th>last_week_pay</th>\n",
       "      <th>acc_now_delinq</th>\n",
       "      <th>tot_coll_amt</th>\n",
       "      <th>tot_cur_bal</th>\n",
       "      <th>total_rev_hi_lim</th>\n",
       "    </tr>\n",
       "  </thead>\n",
       "  <tbody>\n",
       "    <tr>\n",
       "      <th>0</th>\n",
       "      <td>58189336</td>\n",
       "      <td>14350</td>\n",
       "      <td>14350</td>\n",
       "      <td>58189336</td>\n",
       "      <td>14350.0</td>\n",
       "      <td>43</td>\n",
       "      <td>36</td>\n",
       "      <td>9.0</td>\n",
       "      <td>58189336</td>\n",
       "      <td>19.19</td>\n",
       "      <td>...</td>\n",
       "      <td>0.0</td>\n",
       "      <td>0.0</td>\n",
       "      <td>0.0</td>\n",
       "      <td>0.0</td>\n",
       "      <td>74.0</td>\n",
       "      <td>26.0</td>\n",
       "      <td>0.0</td>\n",
       "      <td>0.0</td>\n",
       "      <td>28699.0</td>\n",
       "      <td>30800.0</td>\n",
       "    </tr>\n",
       "    <tr>\n",
       "      <th>1</th>\n",
       "      <td>70011223</td>\n",
       "      <td>4800</td>\n",
       "      <td>4800</td>\n",
       "      <td>70011223</td>\n",
       "      <td>4800.0</td>\n",
       "      <td>14</td>\n",
       "      <td>36</td>\n",
       "      <td>0.0</td>\n",
       "      <td>70011223</td>\n",
       "      <td>10.99</td>\n",
       "      <td>...</td>\n",
       "      <td>0.0</td>\n",
       "      <td>0.0</td>\n",
       "      <td>0.0</td>\n",
       "      <td>0.0</td>\n",
       "      <td>44.0</td>\n",
       "      <td>9.0</td>\n",
       "      <td>0.0</td>\n",
       "      <td>0.0</td>\n",
       "      <td>9974.0</td>\n",
       "      <td>32900.0</td>\n",
       "    </tr>\n",
       "    <tr>\n",
       "      <th>2</th>\n",
       "      <td>70255675</td>\n",
       "      <td>10000</td>\n",
       "      <td>10000</td>\n",
       "      <td>70255675</td>\n",
       "      <td>10000.0</td>\n",
       "      <td>4</td>\n",
       "      <td>36</td>\n",
       "      <td>2.0</td>\n",
       "      <td>70255675</td>\n",
       "      <td>7.26</td>\n",
       "      <td>...</td>\n",
       "      <td>0.0</td>\n",
       "      <td>0.0</td>\n",
       "      <td>0.0</td>\n",
       "      <td>0.0</td>\n",
       "      <td>44.0</td>\n",
       "      <td>9.0</td>\n",
       "      <td>0.0</td>\n",
       "      <td>65.0</td>\n",
       "      <td>38295.0</td>\n",
       "      <td>34900.0</td>\n",
       "    </tr>\n",
       "    <tr>\n",
       "      <th>3</th>\n",
       "      <td>1893936</td>\n",
       "      <td>15000</td>\n",
       "      <td>15000</td>\n",
       "      <td>1893936</td>\n",
       "      <td>15000.0</td>\n",
       "      <td>35</td>\n",
       "      <td>36</td>\n",
       "      <td>10.0</td>\n",
       "      <td>1893936</td>\n",
       "      <td>19.72</td>\n",
       "      <td>...</td>\n",
       "      <td>0.0</td>\n",
       "      <td>0.0</td>\n",
       "      <td>0.0</td>\n",
       "      <td>0.0</td>\n",
       "      <td>44.0</td>\n",
       "      <td>135.0</td>\n",
       "      <td>0.0</td>\n",
       "      <td>0.0</td>\n",
       "      <td>55564.0</td>\n",
       "      <td>24700.0</td>\n",
       "    </tr>\n",
       "    <tr>\n",
       "      <th>4</th>\n",
       "      <td>7652106</td>\n",
       "      <td>16000</td>\n",
       "      <td>16000</td>\n",
       "      <td>7652106</td>\n",
       "      <td>16000.0</td>\n",
       "      <td>12</td>\n",
       "      <td>36</td>\n",
       "      <td>10.0</td>\n",
       "      <td>7652106</td>\n",
       "      <td>10.64</td>\n",
       "      <td>...</td>\n",
       "      <td>0.0</td>\n",
       "      <td>0.0</td>\n",
       "      <td>0.0</td>\n",
       "      <td>0.0</td>\n",
       "      <td>44.0</td>\n",
       "      <td>96.0</td>\n",
       "      <td>0.0</td>\n",
       "      <td>0.0</td>\n",
       "      <td>47159.0</td>\n",
       "      <td>47033.0</td>\n",
       "    </tr>\n",
       "  </tbody>\n",
       "</table>\n",
       "<p>5 rows × 35 columns</p>\n",
       "</div>"
      ],
      "text/plain": [
       "   member_id  loan_amnt  funded_amnt addr_state  funded_amnt_inv  sub_grade  \\\n",
       "0   58189336      14350        14350   58189336          14350.0         43   \n",
       "1   70011223       4800         4800   70011223           4800.0         14   \n",
       "2   70255675      10000        10000   70255675          10000.0          4   \n",
       "3    1893936      15000        15000    1893936          15000.0         35   \n",
       "4    7652106      16000        16000    7652106          16000.0         12   \n",
       "\n",
       "   term  emp_length home_ownership  int_rate  ... total_rec_late_fee  \\\n",
       "0    36         9.0       58189336     19.19  ...                0.0   \n",
       "1    36         0.0       70011223     10.99  ...                0.0   \n",
       "2    36         2.0       70255675      7.26  ...                0.0   \n",
       "3    36        10.0        1893936     19.72  ...                0.0   \n",
       "4    36        10.0        7652106     10.64  ...                0.0   \n",
       "\n",
       "   recoveries collection_recovery_fee collections_12_mths_ex_med  \\\n",
       "0         0.0                     0.0                        0.0   \n",
       "1         0.0                     0.0                        0.0   \n",
       "2         0.0                     0.0                        0.0   \n",
       "3         0.0                     0.0                        0.0   \n",
       "4         0.0                     0.0                        0.0   \n",
       "\n",
       "   mths_since_last_major_derog  last_week_pay  acc_now_delinq  tot_coll_amt  \\\n",
       "0                         74.0           26.0             0.0           0.0   \n",
       "1                         44.0            9.0             0.0           0.0   \n",
       "2                         44.0            9.0             0.0          65.0   \n",
       "3                         44.0          135.0             0.0           0.0   \n",
       "4                         44.0           96.0             0.0           0.0   \n",
       "\n",
       "   tot_cur_bal  total_rev_hi_lim  \n",
       "0      28699.0           30800.0  \n",
       "1       9974.0           32900.0  \n",
       "2      38295.0           34900.0  \n",
       "3      55564.0           24700.0  \n",
       "4      47159.0           47033.0  \n",
       "\n",
       "[5 rows x 35 columns]"
      ]
     },
     "execution_count": 18,
     "metadata": {},
     "output_type": "execute_result"
    }
   ],
   "source": [
    "finalTrain.head()"
   ]
  },
  {
   "cell_type": "markdown",
   "metadata": {},
   "source": [
    "# Feature Selection, Splitting and Training"
   ]
  },
  {
   "cell_type": "code",
   "execution_count": 19,
   "metadata": {},
   "outputs": [],
   "source": [
    "from xgboost import XGBClassifier\n",
    "from sklearn.feature_selection import SelectFromModel\n",
    "import warnings\n",
    "warnings.filterwarnings('ignore')"
   ]
  },
  {
   "cell_type": "code",
   "execution_count": 20,
   "metadata": {},
   "outputs": [],
   "source": [
    "xg = XGBClassifier(scale_pos_weight=2.5 ,silent=True)\n",
    "\n",
    "X_train, X_test, y_train, y_test = train_test_split(np.array(finalTrain), np.array(train_target), test_size=0.30)\n",
    "eval_set=[(X_test, y_test)]"
   ]
  },
  {
   "cell_type": "code",
   "execution_count": 21,
   "metadata": {},
   "outputs": [],
   "source": [
    "selector = SelectFromModel(xg)"
   ]
  },
  {
   "cell_type": "code",
   "execution_count": 22,
   "metadata": {},
   "outputs": [
    {
     "data": {
      "text/plain": [
       "SelectFromModel(estimator=XGBClassifier(base_score=0.5, booster='gbtree',\n",
       "                                        colsample_bylevel=1, colsample_bynode=1,\n",
       "                                        colsample_bytree=1, gamma=0,\n",
       "                                        learning_rate=0.1, max_delta_step=0,\n",
       "                                        max_depth=3, min_child_weight=1,\n",
       "                                        missing=None, n_estimators=100,\n",
       "                                        n_jobs=1, nthread=None,\n",
       "                                        objective='binary:logistic',\n",
       "                                        random_state=0, reg_alpha=0,\n",
       "                                        reg_lambda=1, scale_pos_weight=2.5,\n",
       "                                        seed=None, silent=True, subsample=1,\n",
       "                                        verbosity=1),\n",
       "                max_features=None, norm_order=1, prefit=False, threshold=None)"
      ]
     },
     "execution_count": 22,
     "metadata": {},
     "output_type": "execute_result"
    }
   ],
   "source": [
    "selector.fit(X_train, y_train)"
   ]
  },
  {
   "cell_type": "code",
   "execution_count": 23,
   "metadata": {
    "scrolled": true
   },
   "outputs": [
    {
     "data": {
      "text/plain": [
       "array([ True, False, False, False, False, False,  True, False, False,\n",
       "       False, False, False, False, False,  True, False, False, False,\n",
       "       False, False, False, False, False, False, False, False,  True,\n",
       "       False, False, False,  True, False, False, False, False])"
      ]
     },
     "execution_count": 23,
     "metadata": {},
     "output_type": "execute_result"
    }
   ],
   "source": [
    "selector.get_support()"
   ]
  },
  {
   "cell_type": "code",
   "execution_count": 26,
   "metadata": {},
   "outputs": [
    {
     "data": {
      "text/plain": [
       "Index(['member_id', 'term', 'dti', 'recoveries', 'last_week_pay'], dtype='object')"
      ]
     },
     "execution_count": 26,
     "metadata": {},
     "output_type": "execute_result"
    }
   ],
   "source": [
    "selected_features = finalTrain.columns[selector.get_support()]\n",
    "selected_features"
   ]
  },
  {
   "cell_type": "code",
   "execution_count": 27,
   "metadata": {},
   "outputs": [],
   "source": [
    "ultimate_finalTrain = finalTrain[selected_features]"
   ]
  },
  {
   "cell_type": "code",
   "execution_count": 30,
   "metadata": {},
   "outputs": [],
   "source": [
    "X_train, X_test, y_train, y_test = train_test_split(np.array(ultimate_finalTrain), np.array(train_target), test_size=0.30)\n",
    "eval_set=[(X_test, y_test)]"
   ]
  },
  {
   "cell_type": "code",
   "execution_count": 32,
   "metadata": {},
   "outputs": [
    {
     "data": {
      "text/html": [
       "<div>\n",
       "<style scoped>\n",
       "    .dataframe tbody tr th:only-of-type {\n",
       "        vertical-align: middle;\n",
       "    }\n",
       "\n",
       "    .dataframe tbody tr th {\n",
       "        vertical-align: top;\n",
       "    }\n",
       "\n",
       "    .dataframe thead th {\n",
       "        text-align: right;\n",
       "    }\n",
       "</style>\n",
       "<table border=\"1\" class=\"dataframe\">\n",
       "  <thead>\n",
       "    <tr style=\"text-align: right;\">\n",
       "      <th></th>\n",
       "      <th>member_id</th>\n",
       "      <th>term</th>\n",
       "      <th>dti</th>\n",
       "      <th>recoveries</th>\n",
       "      <th>last_week_pay</th>\n",
       "    </tr>\n",
       "  </thead>\n",
       "  <tbody>\n",
       "    <tr>\n",
       "      <th>0</th>\n",
       "      <td>58189336</td>\n",
       "      <td>36</td>\n",
       "      <td>33.88</td>\n",
       "      <td>0.0</td>\n",
       "      <td>26.0</td>\n",
       "    </tr>\n",
       "    <tr>\n",
       "      <th>1</th>\n",
       "      <td>70011223</td>\n",
       "      <td>36</td>\n",
       "      <td>3.64</td>\n",
       "      <td>0.0</td>\n",
       "      <td>9.0</td>\n",
       "    </tr>\n",
       "    <tr>\n",
       "      <th>2</th>\n",
       "      <td>70255675</td>\n",
       "      <td>36</td>\n",
       "      <td>18.42</td>\n",
       "      <td>0.0</td>\n",
       "      <td>9.0</td>\n",
       "    </tr>\n",
       "    <tr>\n",
       "      <th>3</th>\n",
       "      <td>1893936</td>\n",
       "      <td>36</td>\n",
       "      <td>14.97</td>\n",
       "      <td>0.0</td>\n",
       "      <td>135.0</td>\n",
       "    </tr>\n",
       "    <tr>\n",
       "      <th>4</th>\n",
       "      <td>7652106</td>\n",
       "      <td>36</td>\n",
       "      <td>20.16</td>\n",
       "      <td>0.0</td>\n",
       "      <td>96.0</td>\n",
       "    </tr>\n",
       "  </tbody>\n",
       "</table>\n",
       "</div>"
      ],
      "text/plain": [
       "   member_id  term    dti  recoveries  last_week_pay\n",
       "0   58189336    36  33.88         0.0           26.0\n",
       "1   70011223    36   3.64         0.0            9.0\n",
       "2   70255675    36  18.42         0.0            9.0\n",
       "3    1893936    36  14.97         0.0          135.0\n",
       "4    7652106    36  20.16         0.0           96.0"
      ]
     },
     "execution_count": 32,
     "metadata": {},
     "output_type": "execute_result"
    }
   ],
   "source": [
    "ultimate_finalTrain.head()"
   ]
  },
  {
   "cell_type": "code",
   "execution_count": 31,
   "metadata": {},
   "outputs": [
    {
     "name": "stdout",
     "output_type": "stream",
     "text": [
      "0:00:36.792929\n",
      "==========================\n",
      "Train Accuracy 0.928\n",
      "ROC-AUC: 90.4300988026%\n",
      "Test Accuracy 0.928\n",
      "==========================\n",
      "[[115859   6347]\n",
      " [  5233  32290]]\n",
      "==========================\n",
      "              precision    recall  f1-score   support\n",
      "\n",
      "           0       0.96      0.95      0.95    122206\n",
      "           1       0.84      0.86      0.85     37523\n",
      "\n",
      "    accuracy                           0.93    159729\n",
      "   macro avg       0.90      0.90      0.90    159729\n",
      "weighted avg       0.93      0.93      0.93    159729\n",
      "\n",
      "==========================\n",
      "Precision Score 0.836\n",
      "Recall Score 0.861\n",
      "F1 Score 0.848\n"
     ]
    }
   ],
   "source": [
    "#XGBOOST\n",
    "st = datetime.now()\n",
    "\n",
    "xg = XGBClassifier(scale_pos_weight=2.5 ,silent=True)\n",
    "    \n",
    "xg.fit(X_train, y_train)\n",
    "\n",
    "print(datetime.now()-st)\n",
    "\n",
    "\n",
    "# evaluate predictions\n",
    "y_train_predict_xg = xg.predict(X_train)\n",
    "print(\"==========================\")\n",
    "print('Train Accuracy %.3f' % metrics.accuracy_score(y_train, y_train_predict_xg))\n",
    "\n",
    "# make predictions for test data\n",
    "y_pred_xg = xg.predict(X_test)\n",
    "predictions = [round(value) for value in y_pred_xg]\n",
    "\n",
    "accuracy_per_roc_auc = roc_auc_score(y_test, predictions)\n",
    "print(\"ROC-AUC: %.10f%%\" % (accuracy_per_roc_auc * 100))\n",
    "\n",
    "\n",
    "print('Test Accuracy %.3f' % metrics.accuracy_score(y_test, predictions))\n",
    "print(\"==========================\")\n",
    "print(metrics.confusion_matrix(y_test, predictions))\n",
    "print(\"==========================\")\n",
    "print(metrics.classification_report(y_test, predictions))\n",
    "print(\"==========================\")\n",
    "print('Precision Score %.3f' % metrics.precision_score(y_test, predictions))\n",
    "print('Recall Score %.3f' % metrics.recall_score(y_test, predictions))\n",
    "print('F1 Score %.3f' % metrics.f1_score(y_test, predictions)) "
   ]
  },
  {
   "cell_type": "code",
   "execution_count": 33,
   "metadata": {},
   "outputs": [
    {
     "name": "stdout",
     "output_type": "stream",
     "text": [
      "0:00:34.460304\n",
      "==========================\n",
      "Train Accuracy 0.938\n",
      "ROC-AUC: 93.3749075712%\n",
      "Test Accuracy 0.934\n",
      "==========================\n",
      "[[114250   7956]\n",
      " [  2529  34994]]\n",
      "==========================\n",
      "              precision    recall  f1-score   support\n",
      "\n",
      "           0       0.98      0.93      0.96    122206\n",
      "           1       0.81      0.93      0.87     37523\n",
      "\n",
      "    accuracy                           0.93    159729\n",
      "   macro avg       0.90      0.93      0.91    159729\n",
      "weighted avg       0.94      0.93      0.94    159729\n",
      "\n",
      "==========================\n",
      "Precision Score 0.815\n",
      "Recall Score 0.933\n",
      "F1 Score 0.870\n"
     ]
    }
   ],
   "source": [
    "#LGBM\n",
    "from lightgbm import LGBMClassifier\n",
    "\n",
    "st = datetime.now()\n",
    "\n",
    "lgbm = LGBMClassifier(objective =\"binary\",verbosity = -1, learning_rate=0.1, n_estimators=1000, scale_pos_weight=2.5)\n",
    "    \n",
    "lgbm.fit(X_train, y_train)\n",
    "\n",
    "print(datetime.now()-st)\n",
    "\n",
    "# evaluate predictions\n",
    "y_train_predict_lgbm = lgbm.predict(X_train)\n",
    "\n",
    "print(\"==========================\")\n",
    "print('Train Accuracy %.3f' % metrics.accuracy_score(y_train, y_train_predict_lgbm))\n",
    "\n",
    "# make predictions for test data\n",
    "y_pred_lgbm = lgbm.predict(X_test)\n",
    "predictions = [round(value) for value in y_pred_lgbm]\n",
    "\n",
    "\n",
    "accuracy_per_roc_auc = roc_auc_score(y_test, predictions)\n",
    "print(\"ROC-AUC: %.10f%%\" % (accuracy_per_roc_auc * 100))\n",
    "\n",
    "\n",
    "print('Test Accuracy %.3f' % metrics.accuracy_score(y_test, predictions))\n",
    "print(\"==========================\")\n",
    "print(metrics.confusion_matrix(y_test, predictions))\n",
    "print(\"==========================\")\n",
    "print(metrics.classification_report(y_test, predictions))\n",
    "print(\"==========================\")\n",
    "print('Precision Score %.3f' % metrics.precision_score(y_test, predictions))\n",
    "print('Recall Score %.3f' % metrics.recall_score(y_test, predictions))\n",
    "print('F1 Score %.3f' % metrics.f1_score(y_test, predictions)) "
   ]
  },
  {
   "cell_type": "code",
   "execution_count": null,
   "metadata": {},
   "outputs": [],
   "source": []
  }
 ],
 "metadata": {
  "kernelspec": {
   "display_name": "Python 3",
   "language": "python",
   "name": "python3"
  },
  "language_info": {
   "codemirror_mode": {
    "name": "ipython",
    "version": 3
   },
   "file_extension": ".py",
   "mimetype": "text/x-python",
   "name": "python",
   "nbconvert_exporter": "python",
   "pygments_lexer": "ipython3",
   "version": "3.7.3"
  }
 },
 "nbformat": 4,
 "nbformat_minor": 2
}
